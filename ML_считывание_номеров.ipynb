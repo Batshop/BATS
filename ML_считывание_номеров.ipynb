{
  "nbformat": 4,
  "nbformat_minor": 0,
  "metadata": {
    "colab": {
      "provenance": [],
      "authorship_tag": "ABX9TyP+v0MBvJuQ60O8KNE9Me3r",
      "include_colab_link": true
    },
    "kernelspec": {
      "name": "python3",
      "display_name": "Python 3"
    },
    "language_info": {
      "name": "python"
    }
  },
  "cells": [
    {
      "cell_type": "markdown",
      "metadata": {
        "id": "view-in-github",
        "colab_type": "text"
      },
      "source": [
        "<a href=\"https://colab.research.google.com/github/Batshop/BATS/blob/main/ML_%D1%81%D1%87%D0%B8%D1%82%D1%8B%D0%B2%D0%B0%D0%BD%D0%B8%D0%B5_%D0%BD%D0%BE%D0%BC%D0%B5%D1%80%D0%BE%D0%B2.ipynb\" target=\"_parent\"><img src=\"https://colab.research.google.com/assets/colab-badge.svg\" alt=\"Open In Colab\"/></a>"
      ]
    },
    {
      "cell_type": "code",
      "execution_count": null,
      "metadata": {
        "id": "LqN3hdRDZQ5d"
      },
      "outputs": [],
      "source": [
        "import os\n",
        "import sys\n",
        "import json\n",
        "import matplotlib.image as mpimg\n",
        "\n",
        "# change this property\n",
        "NOMEROFF_NET_DIR = \"/var/www/nomeroff-net/\"\n",
        "MASK_RCNN_DIR = \"/var/www/Mask_RCNN/\"\n",
        "\n",
        "MASK_RCNN_LOG_DIR = os.path.join(NOMEROFF_NET_DIR, \"logs/\")\n",
        "MASK_RCNN_MODEL_PATH = os.path.join(NOMEROFF_NET_DIR, \"models/mask_rcnn_numberplate_0700.h5\")\n",
        "REGION_MODEL_PATH = os.path.join(NOMEROFF_NET_DIR, \"models/imagenet_vgg16_np_region_2019_1_18.h5\")\n",
        "\n",
        "sys.path.append(NOMEROFF_NET_DIR)\n",
        "\n",
        "# Import license plate recognition tools.\n",
        "from NomeroffNet import  filters, RectDetector, TextDetector, RegionDetector, Detector, textPostprocessing\n",
        "\n",
        "# Initialize npdetector with default configuration file.\n",
        "nnet = Detector(MASK_RCNN_DIR, MASK_RCNN_LOG_DIR)\n",
        "# Load weights in keras format.\n",
        "nnet.loadModel(MASK_RCNN_MODEL_PATH)\n",
        "\n",
        "# Initialize rect detector with default configuration file.\n",
        "rectDetector = RectDetector()\n",
        "\n",
        "# Initialize text detector.\n",
        "textDetector = TextDetector()\n",
        "\n",
        "# Initialize numberplate region detector.\n",
        "regionDetector = RegionDetector()\n",
        "regionDetector.load(REGION_MODEL_PATH)\n",
        "\n",
        "img_path = './examples/images/example1.jpeg'\n",
        "img = mpimg.imread(img_path)\n",
        "NP = nnet.detect([img])\n",
        "\n",
        "# Generate image mask.\n",
        "cv_img_masks = filters.cv_img_mask(NP)\n",
        "\n",
        "for img_mask in cv_img_masks:\n",
        "    # Detect points.\n",
        "    points = rectDetector.detect(img_mask, fixRectangleAngle=1, outboundWidthOffset=3)\n",
        "\n",
        "    # Split on zones\n",
        "    zone = rectDetector.get_cv_zones(img, points)\n",
        "\n",
        "    # find standart\n",
        "    regionId = regionDetector.predict(zone)\n",
        "    regionName = regionDetector.getLabels(regionId)\n",
        "\n",
        "    # find text with postprocessing by numberplate region detector\n",
        "    text = textDetector.detect(zone)\n",
        "    text = textPostprocessing(text, regionName)\n",
        "    print('Detected numberplate: \"%s\" in region [%s]'%(text,regionName))\n",
        "    # Detected numberplate: \"AC4921CB\" in region [eu-ua-2015]\n"
      ]
    }
  ]
}